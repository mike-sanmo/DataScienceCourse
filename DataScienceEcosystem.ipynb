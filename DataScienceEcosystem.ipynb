{
 "cells": [
  {
   "cell_type": "markdown",
   "id": "78366f25-56de-4d10-99af-495fe0e687a4",
   "metadata": {},
   "source": [
    "# Data Science Tools and Ecosystem"
   ]
  },
  {
   "cell_type": "markdown",
   "id": "20a71898-c35b-4cca-b554-6f4c2c3c20d0",
   "metadata": {},
   "source": [
    "En este cuaderno se resumen las herramientas y el ecosistema de ciencia de datos."
   ]
  },
  {
   "cell_type": "markdown",
   "id": "fbbc9514-cd03-44ee-ab4a-a05b7fa91fd9",
   "metadata": {},
   "source": [
    "Algunos de los lenguajes populares que utilizan los científicos de datos son:\n",
    "\n",
    "1. Python\n",
    "2. Java\n",
    "3. R"
   ]
  },
  {
   "cell_type": "markdown",
   "id": "9c38fa76-f20f-480f-907d-4757b98bebb4",
   "metadata": {},
   "source": [
    "Algunas de las bibliotecas comúnmente utilizadas por los científicos de datos incluyen:\n",
    "\n",
    "1. dplyr para la manipulación de datos\n",
    "2. stringr para la manipulación de cadenas\n",
    "3. ggplot para la visualización de datos\n",
    "4. caret para el aprendizaje automático"
   ]
  },
  {
   "cell_type": "markdown",
   "id": "73825212-4af7-4f15-a17d-9eda5b1262d5",
   "metadata": {},
   "source": [
    "Herramientas de ciencia de datos|\n",
    "--------------------------------|\n",
    "Jupyter|\n",
    "RStudio|\n",
    "Spyder|"
   ]
  },
  {
   "cell_type": "markdown",
   "id": "faa5b2a6-82b3-4cf8-b454-8c40544c89b3",
   "metadata": {},
   "source": [
    "### A continuación se muestran algunos ejemplos de evaluación de expresiones aritméticas en Python."
   ]
  },
  {
   "cell_type": "code",
   "execution_count": 14,
   "id": "ffc2ecde-b592-4408-9da1-c4439a6ce977",
   "metadata": {},
   "outputs": [
    {
     "data": {
      "text/plain": [
       "17"
      ]
     },
     "execution_count": 14,
     "metadata": {},
     "output_type": "execute_result"
    }
   ],
   "source": [
    "#Esta es una expresión aritmética simple para multiplicar y luego sumar números enteros.\n",
    "\n",
    "(3*4)+5"
   ]
  },
  {
   "cell_type": "code",
   "execution_count": 18,
   "id": "f556ac4d-75e8-41b6-b6da-c484cfaf924e",
   "metadata": {},
   "outputs": [
    {
     "data": {
      "text/plain": [
       "3.3333333333333335"
      ]
     },
     "execution_count": 18,
     "metadata": {},
     "output_type": "execute_result"
    }
   ],
   "source": [
    "#Esto convertirá 200 minutos en horas dividiendo en 60\n",
    "200/60"
   ]
  },
  {
   "cell_type": "markdown",
   "id": "3198cb32-4c15-42ce-863b-31dd48777fff",
   "metadata": {},
   "source": [
    "**Objetivos:**\n",
    "* Se mencionan algunos de los lenguajes populares que se utilizan para la ciencia de datos\n",
    "* Se mencionan algunas de las bibliotecas que utilizan los cientificos de datos\n",
    "* Se mencionan algunas de las herramientas que utilizan los cientificos de datos\n",
    "* Se muestran algunos ejemplos de expresiones aritméticas en Python"
   ]
  },
  {
   "cell_type": "markdown",
   "id": "ca526276-ba96-4eec-b2fb-317b11f02849",
   "metadata": {},
   "source": [
    "## Autor\n",
    "Miguel Alejandro Sánchez Mojica"
   ]
  }
 ],
 "metadata": {
  "kernelspec": {
   "display_name": "Python 3 (ipykernel)",
   "language": "python",
   "name": "python3"
  },
  "language_info": {
   "codemirror_mode": {
    "name": "ipython",
    "version": 3
   },
   "file_extension": ".py",
   "mimetype": "text/x-python",
   "name": "python",
   "nbconvert_exporter": "python",
   "pygments_lexer": "ipython3",
   "version": "3.12.4"
  }
 },
 "nbformat": 4,
 "nbformat_minor": 5
}
